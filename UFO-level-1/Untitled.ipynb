{
 "cells": [
  {
   "cell_type": "code",
   "execution_count": 1,
   "id": "sacred-curve",
   "metadata": {},
   "outputs": [
    {
     "ename": "ReferenceError",
     "evalue": "data is not defined",
     "output_type": "error",
     "traceback": [
      "evalmachine.<anonymous>:2",
      "var tableData = data;",
      "                ^",
      "",
      "ReferenceError: data is not defined",
      "    at evalmachine.<anonymous>:2:17",
      "    at Script.runInThisContext (vm.js:132:18)",
      "    at Object.runInThisContext (vm.js:315:38)",
      "    at run ([eval]:1054:15)",
      "    at onRunRequest ([eval]:888:18)",
      "    at onMessage ([eval]:848:13)",
      "    at process.emit (events.js:314:20)",
      "    at emit (internal/child_process.js:906:12)",
      "    at processTicksAndRejections (internal/process/task_queues.js:81:21)"
     ]
    }
   ],
   "source": [
    "// from data.js\n",
    "var tableData = data;\n",
    "\n",
    "\n",
    "//\n",
    "var tbody = d3.select(\"tbody\");\n",
    "console.log(tableData);\n",
    "\n",
    "//UFO Columns\n",
    "tableData.forEach(function(ufoSighting) {\n",
    "    console.log(ufoSighting);\n",
    "    //\n",
    "    var row = tbody.append(\"tr\");\n",
    "\n",
    "}\n",
    ")"
   ]
  },
  {
   "cell_type": "code",
   "execution_count": null,
   "id": "manufactured-winner",
   "metadata": {},
   "outputs": [],
   "source": []
  }
 ],
 "metadata": {
  "kernelspec": {
   "display_name": "Javascript (Node.js)",
   "language": "javascript",
   "name": "javascript"
  },
  "language_info": {
   "file_extension": ".js",
   "mimetype": "application/javascript",
   "name": "javascript",
   "version": "14.8.0"
  }
 },
 "nbformat": 4,
 "nbformat_minor": 5
}
